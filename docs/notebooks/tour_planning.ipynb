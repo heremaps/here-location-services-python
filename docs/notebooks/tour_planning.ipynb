{
 "cells": [
  {
   "cell_type": "code",
   "execution_count": null,
   "source": [
    "import os\n",
    "from here_location_services import LS"
   ],
   "outputs": [],
   "metadata": {}
  },
  {
   "cell_type": "code",
   "execution_count": null,
   "source": [
    "os.environ[\"LS_API_KEY\"] = \"MY-API-KEY\"  # replace your API key here."
   ],
   "outputs": [],
   "metadata": {}
  },
  {
   "cell_type": "code",
   "execution_count": null,
   "source": [
    "from here_location_services.config.tour_planning_config import (\n",
    "    VEHICLE_MODE,\n",
    "    Fleet,\n",
    "    Job,\n",
    "    JobPlaces,\n",
    "    Plan,\n",
    "    Relation,\n",
    "    VehicleProfile,\n",
    "    VehicleType,\n",
    ")\n",
    "\n",
    "LS_API_KEY = os.environ.get(\"LS_API_KEY\")  # Get API KEY from environment.\n",
    "ls = LS(api_key=LS_API_KEY)\n",
    "\n",
    "fleet = Fleet(\n",
    "    vehicle_types=[\n",
    "        VehicleType(\n",
    "            id=\"09c77738-1dba-42f1-b00e-eb63da7147d6\",\n",
    "            profile_name=\"normal_car\",\n",
    "            costs_fixed=22,\n",
    "            costs_distance=0.0001,\n",
    "            costs_time=0.0048,\n",
    "            capacity=[100, 5],\n",
    "            skills=[\"fridge\"],\n",
    "            amount=1,\n",
    "            shift_start={\n",
    "                \"time\": \"2020-07-04T09:00:00Z\",\n",
    "                \"location\": {\"lat\": 52.5256, \"lng\": 13.4542},\n",
    "            },\n",
    "            limits={\"maxDistance\": 20000, \"shiftTime\": 21600},\n",
    "            shift_end={\n",
    "                \"location\": {\"lat\": 52.5256, \"lng\": 13.4542},\n",
    "                \"time\": \"2020-07-04T18:00:00Z\",\n",
    "            },\n",
    "            shift_breaks=[\n",
    "                {\n",
    "                    \"duration\": 1800,\n",
    "                    \"times\": [[\"2020-07-04T11:00:00Z\", \"2020-07-04T13:00:00Z\"]],\n",
    "                }\n",
    "            ],\n",
    "        )\n",
    "    ],\n",
    "    vehicle_profiles=[VehicleProfile(name=\"normal_car\", vehicle_mode=VEHICLE_MODE.car)],\n",
    ")\n",
    "\n",
    "plan = Plan(\n",
    "    jobs=[\n",
    "        Job(\n",
    "            id=\"4bbc206d-1583-4266-bac9-d1580f412ac0\",\n",
    "            pickups=[\n",
    "                JobPlaces(\n",
    "                    duration=180,\n",
    "                    demand=[10],\n",
    "                    location=(52.53088, 13.38471),\n",
    "                    times=[[\"2020-07-04T10:00:00Z\", \"2020-07-04T12:00:00Z\"]],\n",
    "                )\n",
    "            ],\n",
    "            deliveries=[\n",
    "                JobPlaces(\n",
    "                    duration=300,\n",
    "                    demand=[10],\n",
    "                    location=(52.53088, 13.38471),\n",
    "                    times=[[\"2020-07-04T14:00:00Z\", \"2020-07-04T16:00:00Z\"]],\n",
    "                )\n",
    "            ],\n",
    "            skills=[\"fridge\"],\n",
    "            priority=2,\n",
    "        )\n",
    "    ],\n",
    "    relations=[\n",
    "        Relation(\n",
    "            type=\"sequence\",\n",
    "            jobs=[\"departure\", \"4bbc206d-1583-4266-bac9-d1580f412ac0\", \"arrival\"],\n",
    "            vehicle_id=\"09c77738-1dba-42f1-b00e-eb63da7147d6_1\",\n",
    "        )\n",
    "    ],\n",
    ")\n",
    "\n",
    "# Synchronous Solving\n",
    "response = ls.solve_tour_planning(\n",
    "    fleet=fleet, plan=plan, id=\"7f3423c2-784a-4983-b472-e14107d5a54a\"\n",
    ")\n",
    "print(response)"
   ],
   "outputs": [],
   "metadata": {}
  },
  {
   "cell_type": "code",
   "execution_count": null,
   "source": [
    "# Asynchronous Solving\n",
    "async_response = ls.solve_tour_planning(\n",
    "    fleet=fleet, \n",
    "    plan=plan, \n",
    "    id=\"7f3423c2-784a-4983-b472-e14107d5a54a\",\n",
    "    is_async=True\n",
    ")\n",
    "print(async_response)"
   ],
   "outputs": [],
   "metadata": {}
  },
  {
   "cell_type": "code",
   "execution_count": null,
   "source": [],
   "outputs": [],
   "metadata": {}
  }
 ],
 "metadata": {
  "orig_nbformat": 4,
  "language_info": {
   "name": "python",
   "version": "3.9.6",
   "mimetype": "text/x-python",
   "codemirror_mode": {
    "name": "ipython",
    "version": 3
   },
   "pygments_lexer": "ipython3",
   "nbconvert_exporter": "python",
   "file_extension": ".py"
  },
  "kernelspec": {
   "name": "python3",
   "display_name": "Python 3.9.6 64-bit"
  },
  "interpreter": {
   "hash": "aee8b7b246df8f9039afb4144a1f6fd8d2ca17a180786b69acc140d282b71a49"
  }
 },
 "nbformat": 4,
 "nbformat_minor": 2
}